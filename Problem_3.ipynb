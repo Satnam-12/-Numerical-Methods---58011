{
  "nbformat": 4,
  "nbformat_minor": 0,
  "metadata": {
    "colab": {
      "name": "Problem 3",
      "provenance": [],
      "authorship_tag": "ABX9TyMPwwFU8NBpne91S4Sf5wfO",
      "include_colab_link": true
    },
    "kernelspec": {
      "name": "python3",
      "display_name": "Python 3"
    },
    "language_info": {
      "name": "python"
    }
  },
  "cells": [
    {
      "cell_type": "markdown",
      "metadata": {
        "id": "view-in-github",
        "colab_type": "text"
      },
      "source": [
        "<a href=\"https://colab.research.google.com/github/Satnam-12/-Numerical-Methods---58011/blob/main/Problem_3.ipynb\" target=\"_parent\"><img src=\"https://colab.research.google.com/assets/colab-badge.svg\" alt=\"Open In Colab\"/></a>"
      ]
    },
    {
      "cell_type": "markdown",
      "source": [
        "##Problem 3. Create a Python program that integrates the function f(x) = ex  from x1=-1 to x2 = 1 as the interval. Save your program to your repository and send your GitHub link here. (30 points)\n",
        "\n"
      ],
      "metadata": {
        "id": "gZbUl2DDzVg8"
      }
    },
    {
      "cell_type": "code",
      "execution_count": 2,
      "metadata": {
        "colab": {
          "base_uri": "https://localhost:8080/"
        },
        "id": "lFSm_RQIzHoL",
        "outputId": "44d888f6-a3c0-42e1-d5d2-1a0ed9b6a40d"
      },
      "outputs": [
        {
          "output_type": "stream",
          "name": "stdout",
          "text": [
            "Integral = 2.1731\n"
          ]
        }
      ],
      "source": [
        "import math\n",
        "def f(x):\n",
        "  return(math.exp(x)) \n",
        "a = -1\n",
        "b = 1\n",
        "n = 10\n",
        "h = (b-a)/n   \n",
        "S = h* (f(a)+f(b))    \n",
        "for i in range(1,n):\n",
        "    S+=f(a+i*h)\n",
        "Integral = S*h\n",
        "print('Integral = %0.4f' %Integral)"
      ]
    }
  ]
}